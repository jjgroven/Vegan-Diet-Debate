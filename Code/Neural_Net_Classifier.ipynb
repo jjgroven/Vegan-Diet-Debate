{
 "cells": [
  {
   "cell_type": "code",
   "execution_count": 368,
   "id": "728f0748-42fa-43a8-a0dc-4f716ceafbff",
   "metadata": {},
   "outputs": [],
   "source": [
    "import tensorflow as tf\n",
    "from tensorflow import keras\n",
    "from tensorflow.keras import layers\n",
    "from sklearn.model_selection import train_test_split\n",
    "import tensorflow.keras\n",
    "from tensorflow.keras.datasets import mnist\n",
    "from tensorflow.keras.models import Sequential\n",
    "from tensorflow.keras.layers import LSTM, Dense, Dropout, LSTM\n",
    "from tensorflow.keras.optimizers import Adam\n",
    "import matplotlib.pyplot as plt\n",
    "from tensorflow.keras import layers\n",
    "import numpy as np\n",
    "import pandas as pd\n",
    "from sklearn.preprocessing import StandardScaler\n"
   ]
  },
  {
   "cell_type": "code",
   "execution_count": 369,
   "id": "e1c2ff43-5e43-4db5-b839-0c09977c0ca8",
   "metadata": {},
   "outputs": [],
   "source": [
    "#Read data \n",
    "x_train = pd.read_csv(\"Train Data.csv\")#.to_numpy()\n",
    "x_test = pd.read_csv(\"Test Data.csv\")#.to_numpy()\n",
    "y_train = pd.read_csv(\"Train Labels.csv\")\n",
    "y_test = pd.read_csv(\"Test Labels.csv\")\n",
    "\n"
   ]
  },
  {
   "cell_type": "code",
   "execution_count": 373,
   "id": "6f0f8c43-aa13-46dc-bd08-4c701e0d9f8a",
   "metadata": {},
   "outputs": [],
   "source": [
    "#x_train = df_scaled_print[0:107]\n",
    "x_train = x_train.to_numpy()\n",
    "\n",
    "#x_test = df_scaled_print[107:153]\n",
    "x_test = x_test.to_numpy()\n"
   ]
  },
  {
   "cell_type": "code",
   "execution_count": 377,
   "id": "5e606e2d-2e0c-4fe2-b9f5-d0dc69ebda13",
   "metadata": {},
   "outputs": [
    {
     "name": "stderr",
     "output_type": "stream",
     "text": [
      "/var/folders/d6/y477syd17zq1xbtppl2_lvkr0000gn/T/ipykernel_92734/3466728297.py:1: FutureWarning: Downcasting behavior in `replace` is deprecated and will be removed in a future version. To retain the old behavior, explicitly call `result.infer_objects(copy=False)`. To opt-in to the future behavior, set `pd.set_option('future.no_silent_downcasting', True)`\n",
      "  y_train['Sentiment'] = y_train['Sentiment'].replace(['pos','neg'], [1,0])\n",
      "/var/folders/d6/y477syd17zq1xbtppl2_lvkr0000gn/T/ipykernel_92734/3466728297.py:5: FutureWarning: Downcasting behavior in `replace` is deprecated and will be removed in a future version. To retain the old behavior, explicitly call `result.infer_objects(copy=False)`. To opt-in to the future behavior, set `pd.set_option('future.no_silent_downcasting', True)`\n",
      "  y_test['Sentiment'] = y_test['Sentiment'].replace(['pos','neg'], [1,0])\n"
     ]
    },
    {
     "data": {
      "text/plain": [
       "array([1, 1, 1, 0, 1, 1, 1, 0, 0, 0, 0, 1, 1, 1, 1, 1, 0, 0, 1, 0, 1, 1,\n",
       "       1, 1, 0, 1, 0, 1, 1, 1, 1, 1, 1, 1, 0, 1, 1, 1, 1, 1, 1, 1, 1, 1,\n",
       "       1, 1])"
      ]
     },
     "execution_count": 377,
     "metadata": {},
     "output_type": "execute_result"
    }
   ],
   "source": [
    "y_train['Sentiment'] = y_train['Sentiment'].replace(['pos','neg'], [1,0])\n",
    "y_train = y_train['Sentiment'].values\n",
    "y_train\n",
    "\n",
    "y_test['Sentiment'] = y_test['Sentiment'].replace(['pos','neg'], [1,0])\n",
    "y_test = y_test['Sentiment'].values\n",
    "y_test"
   ]
  },
  {
   "cell_type": "code",
   "execution_count": 380,
   "id": "0c3e1aa3-8a23-458e-82d4-cbc0ed0959e9",
   "metadata": {},
   "outputs": [
    {
     "name": "stdout",
     "output_type": "stream",
     "text": [
      "The first value of x_test is \n",
      " [ 1  0  0  0  0  0  6  0  0  7  0  1  0  0  0  2  0  2  3  2  0  0  1  1\n",
      "  0  1  1  4  0  2  0  0  1  2  0  0  0  0  3  0  0  3  0  2  0  1  2  0\n",
      "  0  0  0  0  0  0  0  3  2  0  0  0  0  0  0  0  0  0  0  0  0  0  2  0\n",
      "  0  1  0  0  0  1  1  0  0  0  2  0  1  0  7  0  0  0  2  0  0  1  0  1\n",
      "  0  0  0  1  0  0  3  0  0  0  0  0  0  0  0  2  0  1  0  0  2  0  0  1\n",
      "  0  0  0  0  0  0  0  2  0  0  0  4  2  9  0  3  0  2  1  2  0  1  0  1\n",
      "  0  0  2  3  0  4  0  0  0  0  0  3  1  1  0  3  0  5  0  1  0  0  0  1\n",
      "  2  0  0  1  0  0  0  2  0  0  0  2  0  0  0  0  0  0  0  1  0  0  0  2\n",
      "  3  0  1  0  0  0  0  0  2  0  0  0  5  8  0  0  1  4  2  0  0  2  0  0\n",
      "  1  3  1  0  0  1  4  0  1  3  1  1  0  0  3  1  0  2  0  0  0  0  0  0\n",
      "  0  0  3  8  5  0  0  2  1  1  0  1  0  0  1  2  1  0  2  0  3  0  0  0\n",
      "  0  1  1  2  0  2  0  0  1  0  0  0  0  0  0  0  0  0  0  0  0 13  0  1\n",
      "  0  0  1  0  0  0  0  0  0  0 10  0  0  0  0  0  0  4  1  0  1  0  0  1\n",
      " 15  0  0  0  0  0  0  0  0  1  0  0  0  0  0  3  0  6  0  1  0  2  0  1\n",
      "  0  0  0  0  0  2  5  0  1  2  2  0  1  1  0  4  0  0  1  3  6  0  0  0\n",
      "  0  0  2  0  0  0  1  3  0  2  0  0  0  0  2  0  1  2  0  2 65  1  7  2\n",
      "  0  3  0  1  2  0  2  1  0  0  0  0  1  0  1  0]\n",
      "The shape of x_test is \n",
      " (46, 400)\n",
      "The first value of x_train is \n",
      " [ 0  0  0  0  0  0  1  0  0  1  0  2  0  0  0  0  0  2 10  1  0  0  0  0\n",
      "  0  0  0  0  0  0  0  0  0  1  0  0  0  1  0  0  0  0  1  0  0  0  1  0\n",
      "  0  0  0  1  0  0  0  0  0  0  1  0  0  0  0  2  0  0  0  0  0  0  0  0\n",
      "  0  0  0  0  0  0  0  1  0  1  0  0  0  0  6  0  0  1  1  0  0  0  0  1\n",
      "  0  0  3  0  1  3  0  0  0  0  0  1  0  2  0  0  1  0  0  0  0  0  0  0\n",
      "  0  0  0  0  1  0  0  0  0  0  0  0  0  1  0  0  0  0  1  0  0  1  0  1\n",
      "  0  2  0  0  1  0  0  0  1  0  0  0  1  3  1  0  1  0  0  0  0  0  0  0\n",
      "  0  0  1  0  0  0  0  0  0  1  0  0  1  1  0  0  0  0  0  0  2  0  0  0\n",
      "  0  0  0  0  0  0  0  0  2  0  0  0  2  2  0  0  0  0  0  1  0  0  0  0\n",
      "  0  0  0  1  0  0  3  0  0  2  0  6  0  0  0  0  0  0  0  0  0  0  0  1\n",
      "  0  0  0  0  0  0  1  1  1  0  0  0  0  0  0  0  0  0  0  0  0  0  0  1\n",
      "  0  0  2  0  0  9  0  0  0  0  0  1  0  0  0  0  0  0  0  0  0  1  0  3\n",
      "  0  0  0  1  0  0  0  0  0  1  1  0  1  1  0  0  0  0  0  0  0  0  1  0\n",
      "  3  0  0  0  0  0  0  0  0  1  0  0  0  0  1  0  0  0  0  0  0  1  0  0\n",
      "  0  0  0  0  0  0  1  1  1  0  1  0  0  1  0  0  0  0  1  0  0  0  1  0\n",
      "  1  0  0  1  0  0  1  0  0  0  0  0  0  0  0  0  0  0  0  0  0  1  0  1\n",
      "  1  0  0  0  0  0  1  0  0  0  0  0  0  0  1  0]\n",
      "The shape of x_train is \n",
      " (107, 400)\n",
      "The first value of y_test is \n",
      " 1\n",
      "The shape of y_test is \n",
      " (46,)\n",
      "The first value of y_train is \n",
      " 0\n",
      "The shape of y_train is \n",
      " (107,)\n",
      "The first few values of y_test are \n",
      " [1 1 1]\n"
     ]
    }
   ],
   "source": [
    "\n",
    "\n",
    "## Getting the data loaded and ready\n",
    "\n",
    "\n",
    "#Data_=tf.keras.datasets.fashion_mnist\n",
    "## Load the data....\n",
    "#(x_train, y_train),(x_test, y_test) = Data_.load_data()\n",
    "\n",
    "## What does the data look like?\n",
    "print(\"The first value of x_test is \\n\", x_test[0])\n",
    "print(\"The shape of x_test is \\n\", x_test.shape)\n",
    "print(\"The first value of x_train is \\n\", x_train[0])\n",
    "print(\"The shape of x_train is \\n\", x_train.shape)\n",
    "print(\"The first value of y_test is \\n\", y_test[0])\n",
    "print(\"The shape of y_test is \\n\", y_test.shape)\n",
    "print(\"The first value of y_train is \\n\", y_train[0])\n",
    "print(\"The shape of y_train is \\n\", y_train.shape)\n",
    "print(\"The first few values of y_test are \\n\", y_test[0:3])\n",
    "\n",
    "#print(\"The first value - label - of y-test is a \",y_test[0], \"and it looks like this:\\n\")\n",
    "#plt.imshow(x_test[0]) ## NOTICE that to see the image you need x_test[0] and to see the\n",
    "## numeric label you need y_test[0]\n",
    "\n"
   ]
  },
  {
   "cell_type": "code",
   "execution_count": 381,
   "id": "35de2f09-8d6d-4222-a3a1-441474d740d0",
   "metadata": {},
   "outputs": [],
   "source": [
    "## Data Normalization\n",
    "##BEFORE\n",
    "#print(\"Before normalization - x_train[0] is \\n\", x_train[0])\n",
    "#x_train, x_test = x_train / 255.0, x_test / 255.0\n",
    "##AFTER\n",
    "#print(\"After normalization - x_train[0] is \\n\", x_train[0])\n",
    "## NOTE - we DO NOT normalize y. Why not?\n"
   ]
  },
  {
   "cell_type": "code",
   "execution_count": 382,
   "id": "773a7344-d69b-4fea-96c0-95c419d33786",
   "metadata": {},
   "outputs": [
    {
     "name": "stderr",
     "output_type": "stream",
     "text": [
      "/opt/anaconda3/lib/python3.12/site-packages/keras/src/layers/reshaping/flatten.py:37: UserWarning: Do not pass an `input_shape`/`input_dim` argument to a layer. When using Sequential models, prefer using an `Input(shape)` object as the first layer in the model instead.\n",
      "  super().__init__(**kwargs)\n"
     ]
    },
    {
     "data": {
      "text/html": [
       "<pre style=\"white-space:pre;overflow-x:auto;line-height:normal;font-family:Menlo,'DejaVu Sans Mono',consolas,'Courier New',monospace\"><span style=\"font-weight: bold\">Model: \"sequential_8\"</span>\n",
       "</pre>\n"
      ],
      "text/plain": [
       "\u001b[1mModel: \"sequential_8\"\u001b[0m\n"
      ]
     },
     "metadata": {},
     "output_type": "display_data"
    },
    {
     "data": {
      "text/html": [
       "<pre style=\"white-space:pre;overflow-x:auto;line-height:normal;font-family:Menlo,'DejaVu Sans Mono',consolas,'Courier New',monospace\">┏━━━━━━━━━━━━━━━━━━━━━━━━━━━━━━━━━┳━━━━━━━━━━━━━━━━━━━━━━━━┳━━━━━━━━━━━━━━━┓\n",
       "┃<span style=\"font-weight: bold\"> Layer (type)                    </span>┃<span style=\"font-weight: bold\"> Output Shape           </span>┃<span style=\"font-weight: bold\">       Param # </span>┃\n",
       "┡━━━━━━━━━━━━━━━━━━━━━━━━━━━━━━━━━╇━━━━━━━━━━━━━━━━━━━━━━━━╇━━━━━━━━━━━━━━━┩\n",
       "│ flatten_8 (<span style=\"color: #0087ff; text-decoration-color: #0087ff\">Flatten</span>)             │ (<span style=\"color: #00d7ff; text-decoration-color: #00d7ff\">None</span>, <span style=\"color: #00af00; text-decoration-color: #00af00\">400</span>)            │             <span style=\"color: #00af00; text-decoration-color: #00af00\">0</span> │\n",
       "├─────────────────────────────────┼────────────────────────┼───────────────┤\n",
       "│ dense_16 (<span style=\"color: #0087ff; text-decoration-color: #0087ff\">Dense</span>)                │ (<span style=\"color: #00d7ff; text-decoration-color: #00d7ff\">None</span>, <span style=\"color: #00af00; text-decoration-color: #00af00\">128</span>)            │        <span style=\"color: #00af00; text-decoration-color: #00af00\">51,328</span> │\n",
       "├─────────────────────────────────┼────────────────────────┼───────────────┤\n",
       "│ dropout_8 (<span style=\"color: #0087ff; text-decoration-color: #0087ff\">Dropout</span>)             │ (<span style=\"color: #00d7ff; text-decoration-color: #00d7ff\">None</span>, <span style=\"color: #00af00; text-decoration-color: #00af00\">128</span>)            │             <span style=\"color: #00af00; text-decoration-color: #00af00\">0</span> │\n",
       "├─────────────────────────────────┼────────────────────────┼───────────────┤\n",
       "│ dense_17 (<span style=\"color: #0087ff; text-decoration-color: #0087ff\">Dense</span>)                │ (<span style=\"color: #00d7ff; text-decoration-color: #00d7ff\">None</span>, <span style=\"color: #00af00; text-decoration-color: #00af00\">10</span>)             │         <span style=\"color: #00af00; text-decoration-color: #00af00\">1,290</span> │\n",
       "└─────────────────────────────────┴────────────────────────┴───────────────┘\n",
       "</pre>\n"
      ],
      "text/plain": [
       "┏━━━━━━━━━━━━━━━━━━━━━━━━━━━━━━━━━┳━━━━━━━━━━━━━━━━━━━━━━━━┳━━━━━━━━━━━━━━━┓\n",
       "┃\u001b[1m \u001b[0m\u001b[1mLayer (type)                   \u001b[0m\u001b[1m \u001b[0m┃\u001b[1m \u001b[0m\u001b[1mOutput Shape          \u001b[0m\u001b[1m \u001b[0m┃\u001b[1m \u001b[0m\u001b[1m      Param #\u001b[0m\u001b[1m \u001b[0m┃\n",
       "┡━━━━━━━━━━━━━━━━━━━━━━━━━━━━━━━━━╇━━━━━━━━━━━━━━━━━━━━━━━━╇━━━━━━━━━━━━━━━┩\n",
       "│ flatten_8 (\u001b[38;5;33mFlatten\u001b[0m)             │ (\u001b[38;5;45mNone\u001b[0m, \u001b[38;5;34m400\u001b[0m)            │             \u001b[38;5;34m0\u001b[0m │\n",
       "├─────────────────────────────────┼────────────────────────┼───────────────┤\n",
       "│ dense_16 (\u001b[38;5;33mDense\u001b[0m)                │ (\u001b[38;5;45mNone\u001b[0m, \u001b[38;5;34m128\u001b[0m)            │        \u001b[38;5;34m51,328\u001b[0m │\n",
       "├─────────────────────────────────┼────────────────────────┼───────────────┤\n",
       "│ dropout_8 (\u001b[38;5;33mDropout\u001b[0m)             │ (\u001b[38;5;45mNone\u001b[0m, \u001b[38;5;34m128\u001b[0m)            │             \u001b[38;5;34m0\u001b[0m │\n",
       "├─────────────────────────────────┼────────────────────────┼───────────────┤\n",
       "│ dense_17 (\u001b[38;5;33mDense\u001b[0m)                │ (\u001b[38;5;45mNone\u001b[0m, \u001b[38;5;34m10\u001b[0m)             │         \u001b[38;5;34m1,290\u001b[0m │\n",
       "└─────────────────────────────────┴────────────────────────┴───────────────┘\n"
      ]
     },
     "metadata": {},
     "output_type": "display_data"
    },
    {
     "data": {
      "text/html": [
       "<pre style=\"white-space:pre;overflow-x:auto;line-height:normal;font-family:Menlo,'DejaVu Sans Mono',consolas,'Courier New',monospace\"><span style=\"font-weight: bold\"> Total params: </span><span style=\"color: #00af00; text-decoration-color: #00af00\">52,618</span> (205.54 KB)\n",
       "</pre>\n"
      ],
      "text/plain": [
       "\u001b[1m Total params: \u001b[0m\u001b[38;5;34m52,618\u001b[0m (205.54 KB)\n"
      ]
     },
     "metadata": {},
     "output_type": "display_data"
    },
    {
     "data": {
      "text/html": [
       "<pre style=\"white-space:pre;overflow-x:auto;line-height:normal;font-family:Menlo,'DejaVu Sans Mono',consolas,'Courier New',monospace\"><span style=\"font-weight: bold\"> Trainable params: </span><span style=\"color: #00af00; text-decoration-color: #00af00\">52,618</span> (205.54 KB)\n",
       "</pre>\n"
      ],
      "text/plain": [
       "\u001b[1m Trainable params: \u001b[0m\u001b[38;5;34m52,618\u001b[0m (205.54 KB)\n"
      ]
     },
     "metadata": {},
     "output_type": "display_data"
    },
    {
     "data": {
      "text/html": [
       "<pre style=\"white-space:pre;overflow-x:auto;line-height:normal;font-family:Menlo,'DejaVu Sans Mono',consolas,'Courier New',monospace\"><span style=\"font-weight: bold\"> Non-trainable params: </span><span style=\"color: #00af00; text-decoration-color: #00af00\">0</span> (0.00 B)\n",
       "</pre>\n"
      ],
      "text/plain": [
       "\u001b[1m Non-trainable params: \u001b[0m\u001b[38;5;34m0\u001b[0m (0.00 B)\n"
      ]
     },
     "metadata": {},
     "output_type": "display_data"
    }
   ],
   "source": [
    "\n",
    "## Step 1\n",
    "\n",
    "## Create a TF - Keras NN Model\n",
    "    \n",
    "NN_Model = tf.keras.models.Sequential([\n",
    "  tf.keras.layers.Flatten(input_shape=(400,)), \n",
    "  tf.keras.layers.Dense(128, activation='relu'),\n",
    "  tf.keras.layers.Dropout(0.2), \n",
    "  tf.keras.layers.Dense(10, activation='softmax') \n",
    "])\n",
    "    \n",
    "NN_Model.summary()"
   ]
  },
  {
   "cell_type": "code",
   "execution_count": 383,
   "id": "ef4dd39f-14f8-4ae4-a817-e89fbfb04ae2",
   "metadata": {},
   "outputs": [],
   "source": [
    "## -------\n",
    "## Step 2 - \n",
    "## Compile the Model\n",
    "## -------\n",
    "NN_Model.compile(\n",
    "                 loss=\"sparse_categorical_crossentropy\",\n",
    "                 metrics=[\"accuracy\"],\n",
    "                 optimizer='adam'\n",
    "                 )\n"
   ]
  },
  {
   "cell_type": "code",
   "execution_count": 384,
   "id": "2ee7203a-b13a-4cac-9b3f-e378c3787810",
   "metadata": {},
   "outputs": [
    {
     "name": "stdout",
     "output_type": "stream",
     "text": [
      "Epoch 1/4\n",
      "\u001b[1m4/4\u001b[0m \u001b[32m━━━━━━━━━━━━━━━━━━━━\u001b[0m\u001b[37m\u001b[0m \u001b[1m0s\u001b[0m 21ms/step - accuracy: 0.1552 - loss: 5.3270 - val_accuracy: 0.6957 - val_loss: 1.3928\n",
      "Epoch 2/4\n",
      "\u001b[1m4/4\u001b[0m \u001b[32m━━━━━━━━━━━━━━━━━━━━\u001b[0m\u001b[37m\u001b[0m \u001b[1m0s\u001b[0m 6ms/step - accuracy: 0.6589 - loss: 1.7604 - val_accuracy: 0.7826 - val_loss: 1.0885\n",
      "Epoch 3/4\n",
      "\u001b[1m4/4\u001b[0m \u001b[32m━━━━━━━━━━━━━━━━━━━━\u001b[0m\u001b[37m\u001b[0m \u001b[1m0s\u001b[0m 6ms/step - accuracy: 0.7701 - loss: 0.6975 - val_accuracy: 0.8043 - val_loss: 0.8568\n",
      "Epoch 4/4\n",
      "\u001b[1m4/4\u001b[0m \u001b[32m━━━━━━━━━━━━━━━━━━━━\u001b[0m\u001b[37m\u001b[0m \u001b[1m0s\u001b[0m 6ms/step - accuracy: 0.7902 - loss: 0.6650 - val_accuracy: 0.8043 - val_loss: 0.8096\n",
      "\u001b[1m2/2\u001b[0m \u001b[32m━━━━━━━━━━━━━━━━━━━━\u001b[0m\u001b[37m\u001b[0m \u001b[1m0s\u001b[0m 6ms/step - accuracy: 0.7862 - loss: 0.8431\n"
     ]
    },
    {
     "data": {
      "image/png": "[encoded data removed]",
      "text/plain": [
       "<Figure size 640x480 with 1 Axes>"
      ]
     },
     "metadata": {},
     "output_type": "display_data"
    }
   ],
   "source": [
    "## ----------\n",
    "## Step 3 - \n",
    "## Fit the Model to the data (train the model)\n",
    "## -------\n",
    "\n",
    "## Making the number of epochs larger can improve the model and prediction accuracy\n",
    "Hist=NN_Model.fit(x_train,y_train, epochs=4,validation_data=(x_test, y_test))\n",
    "\n",
    "\n",
    "###### History and Accuracy\n",
    "plt.plot(Hist.history['accuracy'], label='accuracy')\n",
    "plt.plot(Hist.history['val_accuracy'], label = 'val_accuracy')\n",
    "plt.xlabel('Epoch')\n",
    "plt.ylabel('Accuracy')\n",
    "plt.ylim([0.5, 1])\n",
    "plt.legend(loc='lower right')\n",
    "\n",
    "##Test and Model\n",
    "Test_Loss, Test_Accuracy = NN_Model.evaluate(x_test, y_test)\n",
    "\n",
    "## Save the Model\n",
    "#NN_Model.save(\"MNIST_Example1_NN_Model\")\n"
   ]
  },
  {
   "cell_type": "code",
   "execution_count": 385,
   "id": "254c22d9-0017-4f96-acf6-544ca4ee3bbc",
   "metadata": {},
   "outputs": [
    {
     "name": "stdout",
     "output_type": "stream",
     "text": [
      "\u001b[1m2/2\u001b[0m \u001b[32m━━━━━━━━━━━━━━━━━━━━\u001b[0m\u001b[37m\u001b[0m \u001b[1m0s\u001b[0m 15ms/step\n",
      "All of the predictions for the test data are \n",
      " [[7.51335919e-03 9.92449403e-01 3.51429215e-08 4.71726844e-06\n",
      "  3.15657744e-05 5.13857490e-09 2.70585998e-10 9.78761022e-07\n",
      "  2.90031124e-11 1.25763995e-08]\n",
      " [6.10168204e-02 9.38923836e-01 1.44563892e-05 3.61996490e-06\n",
      "  3.18127204e-05 5.73525494e-06 8.28147364e-08 1.77851973e-06\n",
      "  8.08915843e-07 1.06897426e-06]\n",
      " [3.29986563e-08 1.00000000e+00 8.35881183e-14 9.92988027e-13\n",
      "  2.94443476e-17 2.40952307e-15 3.07709206e-23 1.33966036e-14\n",
      "  2.91308712e-16 3.92679077e-19]\n",
      " [5.85903898e-02 9.34381664e-01 1.25749182e-04 1.37479987e-03\n",
      "  2.75938353e-03 1.06054184e-03 4.37406561e-05 1.25385670e-03\n",
      "  1.78147544e-04 2.31652579e-04]\n",
      " [1.69837058e-01 8.20788801e-01 2.49631144e-03 4.22324316e-04\n",
      "  1.02710736e-03 3.57237877e-04 2.33403873e-04 4.26263083e-03\n",
      "  1.60389522e-04 4.14712325e-04]\n",
      " [1.86493732e-02 9.74771082e-01 2.42347276e-04 7.44589081e-04\n",
      "  5.10998536e-03 1.19343429e-04 2.58545388e-05 2.53465725e-04\n",
      "  2.31995218e-05 6.08570153e-05]\n",
      " [6.74960893e-06 9.99993205e-01 1.66543224e-08 5.59063386e-12\n",
      "  2.51900001e-10 2.73965659e-11 5.61658336e-16 3.96385236e-09\n",
      "  1.08746154e-11 1.59575200e-11]\n",
      " [3.64436358e-02 9.17397738e-01 1.41607607e-02 4.03910456e-03\n",
      "  1.95184466e-03 2.45536095e-03 1.84664721e-04 1.46550741e-02\n",
      "  3.37952981e-03 5.33228461e-03]\n",
      " [1.24366760e-01 8.73161376e-01 2.93595690e-06 1.54011277e-03\n",
      "  3.59655769e-06 9.08329966e-04 1.37959773e-06 9.85628321e-06\n",
      "  3.37011238e-06 2.37748782e-06]\n",
      " [5.67383356e-02 9.42038774e-01 5.76581006e-05 3.89549969e-04\n",
      "  2.70814024e-04 1.96621419e-04 2.29869988e-06 2.63805006e-04\n",
      "  4.06590589e-05 1.49285961e-06]\n",
      " [2.33898789e-01 7.57124841e-01 6.24923778e-05 3.07348883e-03\n",
      "  7.03254918e-05 5.52953966e-03 2.55393807e-05 9.89702821e-05\n",
      "  6.40827275e-05 5.18924608e-05]\n",
      " [4.24086377e-02 9.45513427e-01 4.45549784e-04 1.97595241e-03\n",
      "  8.30884185e-03 3.56903096e-04 8.87753340e-05 6.93195965e-04\n",
      "  3.26674344e-05 1.76186179e-04]\n",
      " [1.66857000e-02 9.82526124e-01 6.50410133e-04 5.01634531e-06\n",
      "  7.96503514e-07 1.06442512e-05 8.56824784e-07 1.19065378e-04\n",
      "  3.60688375e-07 8.71096688e-07]\n",
      " [2.18417689e-01 7.81269431e-01 9.53204290e-06 4.10310131e-05\n",
      "  2.24011368e-04 2.54587594e-05 2.82026747e-07 1.21307330e-05\n",
      "  8.99487063e-08 3.85132097e-07]\n",
      " [3.58647108e-03 9.96107578e-01 4.45254918e-05 5.52442325e-05\n",
      "  1.94814595e-04 3.70868679e-06 4.78578841e-07 5.27701695e-06\n",
      "  9.23908487e-07 1.03053128e-06]\n",
      " [1.13295410e-02 9.88470554e-01 5.39269513e-06 1.76036032e-04\n",
      "  3.10652285e-06 1.60981790e-06 6.64600375e-09 1.21388075e-05\n",
      "  6.30476848e-07 9.58220198e-07]\n",
      " [4.07382548e-01 5.41553497e-01 8.13273899e-03 3.28310463e-03\n",
      "  5.65054268e-03 1.97406616e-02 1.50958879e-03 7.16589438e-03\n",
      "  1.07338652e-03 4.50798171e-03]\n",
      " [1.93577507e-04 9.99806166e-01 2.12490470e-09 2.03405534e-07\n",
      "  7.96119526e-09 7.76312126e-10 2.76073673e-12 2.77753802e-08\n",
      "  7.80913615e-12 5.06560488e-11]\n",
      " [2.47351557e-01 7.51767218e-01 1.09201683e-04 5.38998866e-04\n",
      "  3.86708343e-05 1.66373473e-04 2.36549613e-06 2.39224682e-05\n",
      "  1.20267873e-06 6.92241315e-07]\n",
      " [7.78832674e-01 2.21095592e-01 1.33485719e-05 3.63452709e-05\n",
      "  2.15710425e-05 9.68137681e-10 4.89417673e-11 2.10585526e-07\n",
      "  1.18038077e-08 2.61038480e-07]\n",
      " [5.56102430e-04 9.99439716e-01 4.00869976e-06 1.05243252e-07\n",
      "  9.43466763e-11 1.16849830e-09 4.45619652e-11 1.88582017e-09\n",
      "  2.25921972e-12 3.25898544e-11]\n",
      " [1.60475299e-01 1.68420240e-01 9.11870897e-02 1.04671784e-01\n",
      "  6.56869411e-02 6.00337684e-02 7.17309117e-02 7.55668804e-02\n",
      "  7.88897499e-02 1.23337410e-01]\n",
      " [2.66596019e-01 7.19476581e-01 1.20960583e-03 9.15156770e-03\n",
      "  2.01607542e-03 5.94934507e-04 1.20575853e-04 4.81310009e-04\n",
      "  2.34186169e-04 1.19056931e-04]\n",
      " [1.13404301e-31 1.00000000e+00 1.23906424e-28 7.98517655e-38\n",
      "  0.00000000e+00 0.00000000e+00 0.00000000e+00 0.00000000e+00\n",
      "  0.00000000e+00 0.00000000e+00]\n",
      " [1.17941029e-01 8.41892958e-01 1.65470652e-02 5.75134589e-04\n",
      "  1.14014500e-03 1.92975020e-03 3.08526750e-03 1.65164918e-02\n",
      "  1.43009354e-04 2.29159894e-04]\n",
      " [1.23446368e-01 4.23563331e-01 9.89065617e-02 6.67040572e-02\n",
      "  3.27013284e-02 3.80446017e-02 2.34860145e-02 1.27245888e-01\n",
      "  1.72403269e-02 4.86614704e-02]\n",
      " [5.02735138e-01 4.96571600e-01 3.17975413e-04 2.62719404e-04\n",
      "  1.67806647e-05 5.12917177e-05 1.56976444e-06 2.61437617e-05\n",
      "  1.51788308e-05 1.55898090e-06]\n",
      " [1.06712654e-01 8.90416980e-01 1.06224220e-03 4.28740304e-06\n",
      "  3.01373234e-06 1.70231913e-03 9.96662379e-07 9.61955229e-05\n",
      "  6.15333704e-07 7.95161156e-07]\n",
      " [1.09555642e-03 9.98903990e-01 4.46947297e-08 3.45065786e-07\n",
      "  2.74064647e-08 7.11198433e-10 6.30795058e-14 2.53508485e-08\n",
      "  5.41808959e-11 1.26982860e-08]\n",
      " [4.39852010e-04 9.99540269e-01 1.76031845e-05 1.33950471e-06\n",
      "  1.90463624e-07 4.72470019e-09 2.70705702e-09 6.80831306e-07\n",
      "  2.95958680e-09 1.27955575e-08]\n",
      " [2.06910918e-05 9.99979317e-01 1.95369432e-11 8.30156499e-11\n",
      "  4.70156969e-10 1.33227873e-14 4.37499800e-20 3.79022924e-11\n",
      "  8.51226777e-15 8.25953281e-12]\n",
      " [2.51977090e-02 9.65344429e-01 9.03864484e-03 1.92174975e-05\n",
      "  2.17443740e-04 2.45862830e-05 2.31431550e-05 6.80551602e-06\n",
      "  1.93053302e-06 1.26144645e-04]\n",
      " [1.34590119e-02 9.86286223e-01 9.54705411e-06 1.96025962e-06\n",
      "  2.07310441e-04 3.79582843e-06 1.32565967e-08 2.81178127e-05\n",
      "  2.80407676e-07 3.78536697e-06]\n",
      " [2.91011967e-02 9.70894635e-01 4.14930867e-10 3.86655620e-06\n",
      "  2.08571702e-08 2.52126786e-09 2.72603415e-07 2.82570859e-11\n",
      "  7.56395340e-14 1.26179631e-11]\n",
      " [2.73334477e-02 9.72326398e-01 1.73087625e-04 8.82799068e-05\n",
      "  6.96611460e-05 1.37802840e-06 1.75807898e-07 7.00483588e-06\n",
      "  4.44387126e-07 8.94376768e-08]\n",
      " [1.43459424e-01 3.48978311e-01 5.47034703e-02 8.96427780e-02\n",
      "  1.18950993e-01 3.89491878e-02 4.24864963e-02 8.50559846e-02\n",
      "  1.21498303e-02 6.56235218e-02]\n",
      " [9.62408036e-02 8.96752715e-01 3.88845307e-04 1.31973531e-03\n",
      "  1.10654416e-03 2.24053091e-03 3.53459996e-04 1.38387294e-03\n",
      "  4.51366868e-05 1.68212820e-04]\n",
      " [1.46267980e-01 2.59316057e-01 7.61390552e-02 8.62475708e-02\n",
      "  1.02038890e-01 8.57336149e-02 5.04059680e-02 8.00303668e-02\n",
      "  5.22597246e-02 6.15607873e-02]\n",
      " [1.43807754e-01 8.56191397e-01 2.07035014e-10 4.79732250e-07\n",
      "  1.97546001e-07 4.39024164e-11 8.27028810e-12 2.04966653e-07\n",
      "  5.94850280e-10 3.70882665e-11]\n",
      " [8.66094828e-02 5.49833119e-01 9.38801840e-02 7.46540353e-02\n",
      "  4.62259911e-02 7.89583474e-03 4.30727890e-03 6.96427673e-02\n",
      "  1.06158657e-02 5.63353188e-02]\n",
      " [3.37038301e-02 9.59883571e-01 1.39814278e-03 4.81015129e-04\n",
      "  5.54821047e-04 1.06806762e-03 3.86819214e-04 2.01365771e-03\n",
      "  1.79483657e-04 3.30494862e-04]\n",
      " [4.89816107e-02 9.48817730e-01 1.38041493e-03 5.06510660e-05\n",
      "  3.66497006e-05 6.33094285e-04 3.25329420e-05 3.19948304e-05\n",
      "  3.19462342e-05 3.47834748e-06]\n",
      " [1.23446375e-01 4.23563272e-01 9.89065543e-02 6.67040497e-02\n",
      "  3.27013284e-02 3.80446054e-02 2.34860145e-02 1.27245888e-01\n",
      "  1.72403324e-02 4.86614741e-02]\n",
      " [1.57723352e-01 7.88374126e-01 1.17969550e-02 7.01680034e-03\n",
      "  4.82097175e-03 4.57955338e-03 1.43858115e-03 1.26217464e-02\n",
      "  7.55098299e-04 1.08727524e-02]\n",
      " [1.24018800e-06 9.99998808e-01 5.65769698e-09 2.28084010e-11\n",
      "  4.79218173e-13 1.12667540e-11 1.45447283e-16 2.31104536e-09\n",
      "  6.86147320e-13 1.68668736e-12]\n",
      " [2.38073971e-02 9.72611189e-01 4.33156354e-04 1.04370131e-03\n",
      "  9.70041903e-04 1.25640960e-04 1.74463730e-05 8.22607777e-04\n",
      "  4.40804106e-05 1.24783226e-04]]\n",
      "The single prediction vector for x_test[2] is \n",
      " [3.2998656e-08 1.0000000e+00 8.3588118e-14 9.9298803e-13 2.9444348e-17\n",
      " 2.4095231e-15 3.0770921e-23 1.3396604e-14 2.9130871e-16 3.9267908e-19]\n",
      "The max - final prediction label for x_test[2] is\n",
      " 1\n"
     ]
    },
    {
     "name": "stderr",
     "output_type": "stream",
     "text": [
      "/opt/anaconda3/lib/python3.12/site-packages/keras/src/models/functional.py:238: UserWarning: The structure of `inputs` doesn't match the expected structure.\n",
      "Expected: keras_tensor_37\n",
      "Received: inputs=('Tensor(shape=(32, 400))',)\n",
      "  warnings.warn(msg)\n",
      "/opt/anaconda3/lib/python3.12/site-packages/keras/src/models/functional.py:238: UserWarning: The structure of `inputs` doesn't match the expected structure.\n",
      "Expected: keras_tensor_37\n",
      "Received: inputs=('Tensor(shape=(None, 400))',)\n",
      "  warnings.warn(msg)\n"
     ]
    }
   ],
   "source": [
    "\n",
    "## All predictions\n",
    "predictions=NN_Model.predict([x_test])\n",
    "print(\"All of the predictions for the test data are \\n\", predictions) ## All the predictions (all 10,000)\n",
    "print(\"The single prediction vector for x_test[2] is \\n\", predictions[2]) ## Just the third prediction\n",
    "print(\"The max - final prediction label for x_test[2] is\\n\", np.argmax(predictions[2])) ## The argmax of the third prediction - this is the label\n"
   ]
  },
  {
   "cell_type": "code",
   "execution_count": 386,
   "id": "6f41ac86-e483-4702-8763-75e680a715e4",
   "metadata": {},
   "outputs": [],
   "source": [
    "## Print the prediction to compare\n",
    "#GetPredictedImage=x_test[y_test==np.argmax(predictions[2])][0]\n",
    "## The above prints the first example that matches the predicted label\n",
    "#plt.imshow(GetPredictedImage)"
   ]
  },
  {
   "cell_type": "code",
   "execution_count": 387,
   "id": "0bf61327-f9fc-4df6-918e-55a34b2528ac",
   "metadata": {},
   "outputs": [
    {
     "name": "stdout",
     "output_type": "stream",
     "text": [
      "The test accuracy is \n",
      " 0.804347813129425\n"
     ]
    }
   ],
   "source": [
    "## Confusion Matrix and Accuracy - and Visual Options\n",
    "print(\"The test accuracy is \\n\", Test_Accuracy)\n",
    "\n",
    "import matplotlib.pyplot as plt\n",
    "from sklearn.metrics import confusion_matrix\n",
    "#print(\"The prediction accuracy via confusion matrix is:\\n\")\n",
    "#print(y_test)\n",
    "#print(predictions)\n",
    "#print(predictions.shape)  ##(10000,10)\n",
    "Max_Values = np.squeeze(np.array(predictions.argmax(axis=1)))\n",
    "#print(Max_Values)\n",
    "#print(np.argmax([predictions]))\n",
    "#print(confusion_matrix(y_test, Max_Values))\n",
    "\n",
    "## Pretty Confusion Matrix\n",
    "#from sklearn.metrics import confusion_matrix\n",
    "labels = [0, 1]\n",
    "cm = confusion_matrix(y_test, Max_Values)#, labels)\n",
    "\n",
    "\n"
   ]
  },
  {
   "cell_type": "code",
   "execution_count": 388,
   "id": "348932ab-5301-4683-a380-d70e8e815fcf",
   "metadata": {},
   "outputs": [
    {
     "data": {
      "text/plain": [
       "array([[7.51335919e-03, 9.92449403e-01, 3.51429215e-08, 4.71726844e-06,\n",
       "        3.15657744e-05, 5.13857490e-09, 2.70585998e-10, 9.78761022e-07,\n",
       "        2.90031124e-11, 1.25763995e-08],\n",
       "       [6.10168204e-02, 9.38923836e-01, 1.44563892e-05, 3.61996490e-06,\n",
       "        3.18127204e-05, 5.73525494e-06, 8.28147364e-08, 1.77851973e-06,\n",
       "        8.08915843e-07, 1.06897426e-06],\n",
       "       [3.29986563e-08, 1.00000000e+00, 8.35881183e-14, 9.92988027e-13,\n",
       "        2.94443476e-17, 2.40952307e-15, 3.07709206e-23, 1.33966036e-14,\n",
       "        2.91308712e-16, 3.92679077e-19],\n",
       "       [5.85903898e-02, 9.34381664e-01, 1.25749182e-04, 1.37479987e-03,\n",
       "        2.75938353e-03, 1.06054184e-03, 4.37406561e-05, 1.25385670e-03,\n",
       "        1.78147544e-04, 2.31652579e-04],\n",
       "       [1.69837058e-01, 8.20788801e-01, 2.49631144e-03, 4.22324316e-04,\n",
       "        1.02710736e-03, 3.57237877e-04, 2.33403873e-04, 4.26263083e-03,\n",
       "        1.60389522e-04, 4.14712325e-04],\n",
       "       [1.86493732e-02, 9.74771082e-01, 2.42347276e-04, 7.44589081e-04,\n",
       "        5.10998536e-03, 1.19343429e-04, 2.58545388e-05, 2.53465725e-04,\n",
       "        2.31995218e-05, 6.08570153e-05],\n",
       "       [6.74960893e-06, 9.99993205e-01, 1.66543224e-08, 5.59063386e-12,\n",
       "        2.51900001e-10, 2.73965659e-11, 5.61658336e-16, 3.96385236e-09,\n",
       "        1.08746154e-11, 1.59575200e-11],\n",
       "       [3.64436358e-02, 9.17397738e-01, 1.41607607e-02, 4.03910456e-03,\n",
       "        1.95184466e-03, 2.45536095e-03, 1.84664721e-04, 1.46550741e-02,\n",
       "        3.37952981e-03, 5.33228461e-03],\n",
       "       [1.24366760e-01, 8.73161376e-01, 2.93595690e-06, 1.54011277e-03,\n",
       "        3.59655769e-06, 9.08329966e-04, 1.37959773e-06, 9.85628321e-06,\n",
       "        3.37011238e-06, 2.37748782e-06],\n",
       "       [5.67383356e-02, 9.42038774e-01, 5.76581006e-05, 3.89549969e-04,\n",
       "        2.70814024e-04, 1.96621419e-04, 2.29869988e-06, 2.63805006e-04,\n",
       "        4.06590589e-05, 1.49285961e-06],\n",
       "       [2.33898789e-01, 7.57124841e-01, 6.24923778e-05, 3.07348883e-03,\n",
       "        7.03254918e-05, 5.52953966e-03, 2.55393807e-05, 9.89702821e-05,\n",
       "        6.40827275e-05, 5.18924608e-05],\n",
       "       [4.24086377e-02, 9.45513427e-01, 4.45549784e-04, 1.97595241e-03,\n",
       "        8.30884185e-03, 3.56903096e-04, 8.87753340e-05, 6.93195965e-04,\n",
       "        3.26674344e-05, 1.76186179e-04],\n",
       "       [1.66857000e-02, 9.82526124e-01, 6.50410133e-04, 5.01634531e-06,\n",
       "        7.96503514e-07, 1.06442512e-05, 8.56824784e-07, 1.19065378e-04,\n",
       "        3.60688375e-07, 8.71096688e-07],\n",
       "       [2.18417689e-01, 7.81269431e-01, 9.53204290e-06, 4.10310131e-05,\n",
       "        2.24011368e-04, 2.54587594e-05, 2.82026747e-07, 1.21307330e-05,\n",
       "        8.99487063e-08, 3.85132097e-07],\n",
       "       [3.58647108e-03, 9.96107578e-01, 4.45254918e-05, 5.52442325e-05,\n",
       "        1.94814595e-04, 3.70868679e-06, 4.78578841e-07, 5.27701695e-06,\n",
       "        9.23908487e-07, 1.03053128e-06],\n",
       "       [1.13295410e-02, 9.88470554e-01, 5.39269513e-06, 1.76036032e-04,\n",
       "        3.10652285e-06, 1.60981790e-06, 6.64600375e-09, 1.21388075e-05,\n",
       "        6.30476848e-07, 9.58220198e-07],\n",
       "       [4.07382548e-01, 5.41553497e-01, 8.13273899e-03, 3.28310463e-03,\n",
       "        5.65054268e-03, 1.97406616e-02, 1.50958879e-03, 7.16589438e-03,\n",
       "        1.07338652e-03, 4.50798171e-03],\n",
       "       [1.93577507e-04, 9.99806166e-01, 2.12490470e-09, 2.03405534e-07,\n",
       "        7.96119526e-09, 7.76312126e-10, 2.76073673e-12, 2.77753802e-08,\n",
       "        7.80913615e-12, 5.06560488e-11],\n",
       "       [2.47351557e-01, 7.51767218e-01, 1.09201683e-04, 5.38998866e-04,\n",
       "        3.86708343e-05, 1.66373473e-04, 2.36549613e-06, 2.39224682e-05,\n",
       "        1.20267873e-06, 6.92241315e-07],\n",
       "       [7.78832674e-01, 2.21095592e-01, 1.33485719e-05, 3.63452709e-05,\n",
       "        2.15710425e-05, 9.68137681e-10, 4.89417673e-11, 2.10585526e-07,\n",
       "        1.18038077e-08, 2.61038480e-07],\n",
       "       [5.56102430e-04, 9.99439716e-01, 4.00869976e-06, 1.05243252e-07,\n",
       "        9.43466763e-11, 1.16849830e-09, 4.45619652e-11, 1.88582017e-09,\n",
       "        2.25921972e-12, 3.25898544e-11],\n",
       "       [1.60475299e-01, 1.68420240e-01, 9.11870897e-02, 1.04671784e-01,\n",
       "        6.56869411e-02, 6.00337684e-02, 7.17309117e-02, 7.55668804e-02,\n",
       "        7.88897499e-02, 1.23337410e-01],\n",
       "       [2.66596019e-01, 7.19476581e-01, 1.20960583e-03, 9.15156770e-03,\n",
       "        2.01607542e-03, 5.94934507e-04, 1.20575853e-04, 4.81310009e-04,\n",
       "        2.34186169e-04, 1.19056931e-04],\n",
       "       [1.13404301e-31, 1.00000000e+00, 1.23906424e-28, 7.98517655e-38,\n",
       "        0.00000000e+00, 0.00000000e+00, 0.00000000e+00, 0.00000000e+00,\n",
       "        0.00000000e+00, 0.00000000e+00],\n",
       "       [1.17941029e-01, 8.41892958e-01, 1.65470652e-02, 5.75134589e-04,\n",
       "        1.14014500e-03, 1.92975020e-03, 3.08526750e-03, 1.65164918e-02,\n",
       "        1.43009354e-04, 2.29159894e-04],\n",
       "       [1.23446368e-01, 4.23563331e-01, 9.89065617e-02, 6.67040572e-02,\n",
       "        3.27013284e-02, 3.80446017e-02, 2.34860145e-02, 1.27245888e-01,\n",
       "        1.72403269e-02, 4.86614704e-02],\n",
       "       [5.02735138e-01, 4.96571600e-01, 3.17975413e-04, 2.62719404e-04,\n",
       "        1.67806647e-05, 5.12917177e-05, 1.56976444e-06, 2.61437617e-05,\n",
       "        1.51788308e-05, 1.55898090e-06],\n",
       "       [1.06712654e-01, 8.90416980e-01, 1.06224220e-03, 4.28740304e-06,\n",
       "        3.01373234e-06, 1.70231913e-03, 9.96662379e-07, 9.61955229e-05,\n",
       "        6.15333704e-07, 7.95161156e-07],\n",
       "       [1.09555642e-03, 9.98903990e-01, 4.46947297e-08, 3.45065786e-07,\n",
       "        2.74064647e-08, 7.11198433e-10, 6.30795058e-14, 2.53508485e-08,\n",
       "        5.41808959e-11, 1.26982860e-08],\n",
       "       [4.39852010e-04, 9.99540269e-01, 1.76031845e-05, 1.33950471e-06,\n",
       "        1.90463624e-07, 4.72470019e-09, 2.70705702e-09, 6.80831306e-07,\n",
       "        2.95958680e-09, 1.27955575e-08],\n",
       "       [2.06910918e-05, 9.99979317e-01, 1.95369432e-11, 8.30156499e-11,\n",
       "        4.70156969e-10, 1.33227873e-14, 4.37499800e-20, 3.79022924e-11,\n",
       "        8.51226777e-15, 8.25953281e-12],\n",
       "       [2.51977090e-02, 9.65344429e-01, 9.03864484e-03, 1.92174975e-05,\n",
       "        2.17443740e-04, 2.45862830e-05, 2.31431550e-05, 6.80551602e-06,\n",
       "        1.93053302e-06, 1.26144645e-04],\n",
       "       [1.34590119e-02, 9.86286223e-01, 9.54705411e-06, 1.96025962e-06,\n",
       "        2.07310441e-04, 3.79582843e-06, 1.32565967e-08, 2.81178127e-05,\n",
       "        2.80407676e-07, 3.78536697e-06],\n",
       "       [2.91011967e-02, 9.70894635e-01, 4.14930867e-10, 3.86655620e-06,\n",
       "        2.08571702e-08, 2.52126786e-09, 2.72603415e-07, 2.82570859e-11,\n",
       "        7.56395340e-14, 1.26179631e-11],\n",
       "       [2.73334477e-02, 9.72326398e-01, 1.73087625e-04, 8.82799068e-05,\n",
       "        6.96611460e-05, 1.37802840e-06, 1.75807898e-07, 7.00483588e-06,\n",
       "        4.44387126e-07, 8.94376768e-08],\n",
       "       [1.43459424e-01, 3.48978311e-01, 5.47034703e-02, 8.96427780e-02,\n",
       "        1.18950993e-01, 3.89491878e-02, 4.24864963e-02, 8.50559846e-02,\n",
       "        1.21498303e-02, 6.56235218e-02],\n",
       "       [9.62408036e-02, 8.96752715e-01, 3.88845307e-04, 1.31973531e-03,\n",
       "        1.10654416e-03, 2.24053091e-03, 3.53459996e-04, 1.38387294e-03,\n",
       "        4.51366868e-05, 1.68212820e-04],\n",
       "       [1.46267980e-01, 2.59316057e-01, 7.61390552e-02, 8.62475708e-02,\n",
       "        1.02038890e-01, 8.57336149e-02, 5.04059680e-02, 8.00303668e-02,\n",
       "        5.22597246e-02, 6.15607873e-02],\n",
       "       [1.43807754e-01, 8.56191397e-01, 2.07035014e-10, 4.79732250e-07,\n",
       "        1.97546001e-07, 4.39024164e-11, 8.27028810e-12, 2.04966653e-07,\n",
       "        5.94850280e-10, 3.70882665e-11],\n",
       "       [8.66094828e-02, 5.49833119e-01, 9.38801840e-02, 7.46540353e-02,\n",
       "        4.62259911e-02, 7.89583474e-03, 4.30727890e-03, 6.96427673e-02,\n",
       "        1.06158657e-02, 5.63353188e-02],\n",
       "       [3.37038301e-02, 9.59883571e-01, 1.39814278e-03, 4.81015129e-04,\n",
       "        5.54821047e-04, 1.06806762e-03, 3.86819214e-04, 2.01365771e-03,\n",
       "        1.79483657e-04, 3.30494862e-04],\n",
       "       [4.89816107e-02, 9.48817730e-01, 1.38041493e-03, 5.06510660e-05,\n",
       "        3.66497006e-05, 6.33094285e-04, 3.25329420e-05, 3.19948304e-05,\n",
       "        3.19462342e-05, 3.47834748e-06],\n",
       "       [1.23446375e-01, 4.23563272e-01, 9.89065543e-02, 6.67040497e-02,\n",
       "        3.27013284e-02, 3.80446054e-02, 2.34860145e-02, 1.27245888e-01,\n",
       "        1.72403324e-02, 4.86614741e-02],\n",
       "       [1.57723352e-01, 7.88374126e-01, 1.17969550e-02, 7.01680034e-03,\n",
       "        4.82097175e-03, 4.57955338e-03, 1.43858115e-03, 1.26217464e-02,\n",
       "        7.55098299e-04, 1.08727524e-02],\n",
       "       [1.24018800e-06, 9.99998808e-01, 5.65769698e-09, 2.28084010e-11,\n",
       "        4.79218173e-13, 1.12667540e-11, 1.45447283e-16, 2.31104536e-09,\n",
       "        6.86147320e-13, 1.68668736e-12],\n",
       "       [2.38073971e-02, 9.72611189e-01, 4.33156354e-04, 1.04370131e-03,\n",
       "        9.70041903e-04, 1.25640960e-04, 1.74463730e-05, 8.22607777e-04,\n",
       "        4.40804106e-05, 1.24783226e-04]], dtype=float32)"
      ]
     },
     "execution_count": 388,
     "metadata": {},
     "output_type": "execute_result"
    }
   ],
   "source": [
    "predictions"
   ]
  },
  {
   "cell_type": "code",
   "execution_count": 416,
   "id": "a7e14d5f-8be0-499a-884a-c2ad21748402",
   "metadata": {},
   "outputs": [
    {
     "data": {
      "text/plain": [
       "[Text(0, 0.5, '0:Negative'), Text(0, 1.5, '1:Positive')]"
      ]
     },
     "execution_count": 416,
     "metadata": {},
     "output_type": "execute_result"
    },
    {
     "data": {
      "image/png": "[encoded data removed]",
      "text/plain": [
       "<Figure size 800x800 with 2 Axes>"
      ]
     },
     "metadata": {},
     "output_type": "display_data"
    }
   ],
   "source": [
    "import seaborn as sns\n",
    "import matplotlib.pyplot as plt     \n",
    "\n",
    "fig, ax = plt.subplots(figsize=(8,8)) \n",
    "\n",
    "sns.heatmap(cm, annot=True, ax=ax, annot_kws={'size': 18}, cmap = 'Blues')\n",
    "\n",
    "ax.set_ylabel('True labels') \n",
    "ax.set_xlabel('Predicted labels')\n",
    "ax.set_title('Confusion Matrix: NN') \n",
    "ax.xaxis.set_ticklabels([\"0: Negative\",\"1:Positive\"],rotation=0, fontsize = 18)\n",
    "\n",
    "ax.yaxis.set_ticklabels([\"0:Negative\",\"1:Positive\"],rotation=0, fontsize = 18)\n"
   ]
  },
  {
   "cell_type": "code",
   "execution_count": null,
   "id": "f2f03b73-fb6d-4b04-bbe2-ba48aa4c49ca",
   "metadata": {},
   "outputs": [],
   "source": []
  },
  {
   "cell_type": "code",
   "execution_count": null,
   "id": "19e9f117-fc72-4989-8afb-edcabcdecd54",
   "metadata": {},
   "outputs": [],
   "source": []
  }
 ],
 "metadata": {
  "kernelspec": {
   "display_name": "Python [conda env:base] *",
   "language": "python",
   "name": "conda-base-py"
  },
  "language_info": {
   "codemirror_mode": {
    "name": "ipython",
    "version": 3
   },
   "file_extension": ".py",
   "mimetype": "text/x-python",
   "name": "python",
   "nbconvert_exporter": "python",
   "pygments_lexer": "ipython3",
   "version": "3.12.2"
  }
 },
 "nbformat": 4,
 "nbformat_minor": 5
}
